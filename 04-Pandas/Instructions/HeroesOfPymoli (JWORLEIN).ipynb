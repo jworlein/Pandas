{
 "cells": [
  {
   "cell_type": "code",
   "execution_count": null,
   "metadata": {
    "scrolled": true
   },
   "outputs": [],
   "source": [
    "# Dependencies\n",
    "import pandas as pd\n",
    "\n",
    "# File Import and Read\n",
    "csvfile = \"HeroesOfPymoli/Resources/purchase_data.csv\"\n",
    "df = pd.read_csv(csvfile)"
   ]
  },
  {
   "cell_type": "code",
   "execution_count": null,
   "metadata": {},
   "outputs": [],
   "source": [
    "# Player Count\n",
    "\n",
    "#Retrieve Values from Data\n",
    "playerCount = df.SN.nunique()\n",
    "playerCounttable = pd.DataFrame()\n",
    "playerCounttable [\"Total Players\"] = [playerCount]\n",
    "\n",
    "#Display Table\n",
    "playerCounttable"
   ]
  },
  {
   "cell_type": "code",
   "execution_count": null,
   "metadata": {},
   "outputs": [],
   "source": [
    "#Purchasing Analysis (Total)\n",
    "\n",
    "#Retrieve Values from Data\n",
    "uniqueItems = df[\"Item Name\"].nunique()\n",
    "averagePrice = df[\"Price\"].mean()\n",
    "totalPurchase = len(df[\"Purchase ID\"])\n",
    "totalSum = df[\"Price\"].sum()\n",
    "\n",
    "#Create DataFrame\n",
    "itemsTable = pd.DataFrame()\n",
    "itemsTable[\"Count of Unique Items\"] = [uniqueItems]\n",
    "itemsTable[\"Average Price\"] = averagePrice\n",
    "itemsTable[\"Count of Purchases\"]= [totalPurchase]\n",
    "itemsTable[\"Total Sum of Purchases\"] = [totalSum]\n",
    "\n",
    "#Format Data Appropriately\n",
    "itemsTable[\"Average Price\"]=itemsTable[\"Average Price\"].map(\"${:,.2f}\".format)\n",
    "itemsTable[\"Total Sum of Purchases\"]=itemsTable[\"Total Sum of Purchases\"].map(\"${:,.2f}\".format)\n",
    "\n",
    "#Display Table\n",
    "itemsTable"
   ]
  },
  {
   "cell_type": "code",
   "execution_count": null,
   "metadata": {},
   "outputs": [],
   "source": [
    "#Gender Demographics\n",
    "\n",
    "#Retrieve Values from Data\n",
    "people_df = df.groupby(['SN','Gender']).size().reset_index().rename(columns={0:'count'})\n",
    "genderCount = people_df.Gender.value_counts()\n",
    "genderPercent=genderCount/len(people_df)\n",
    "\n",
    "#Create DataFrame\n",
    "genderTable=pd.DataFrame()\n",
    "genderTable[\"Total Count\"] = genderCount\n",
    "\n",
    "#Format Data Appropriately\n",
    "genderTable[\"Percentage of Players\"] = (genderPercent*100).map(\"{:.2f}%\".format)\n",
    "\n",
    "#Display Table\n",
    "genderTable"
   ]
  },
  {
   "cell_type": "code",
   "execution_count": null,
   "metadata": {},
   "outputs": [],
   "source": [
    "#Purchasing Analysis (Gender)\n",
    "\n",
    "#Retrieve Values from Data for Columns\n",
    "totalGenpurchase = df.groupby(\"Gender\").size()\n",
    "genAvgprice = df.groupby(\"Gender\").Price.mean()\n",
    "genSumPrice = df.groupby(\"Gender\").Price.sum()\n",
    "genAverageperperson = df.groupby(\"Gender\").Price.sum() / genderTable[\"Total Count\"]\n",
    "\n",
    "#Create DataFrame and Format Data Appropriately\n",
    "genderPurchaseTable=pd.DataFrame()\n",
    "genderPurchaseTable[\"Purchase Count\"] = totalGenpurchase\n",
    "genderPurchaseTable[\"Average Purchase Price\"] = genAvgprice.map(\"${:,.2f}\".format)\n",
    "genderPurchaseTable[\"Total Purchase Value\"] = genSumPrice.map(\"${:,.2f}\".format)\n",
    "genderPurchaseTable[\"Avg Total Purchase per Person\"] = genAverageperperson.map(\"${:,.2f}\".format)\n",
    "\n",
    "#Display Table\n",
    "genderPurchaseTable"
   ]
  },
  {
   "cell_type": "code",
   "execution_count": null,
   "metadata": {},
   "outputs": [],
   "source": [
    "#Age Demographics (Age)\n",
    "\n",
    "#Creat Bins and Bin Labels\n",
    "bins =[0, 9, 14, 19, 24, 29, 34, 39, 50]\n",
    "group_names = [\" <10\", \"10-14\",\"15-19\",\"20-24\",\"25-29\",\"30-34\",\"35-39\",\"40+\"]\n",
    "\n",
    "#Retrieve Data for Columns (setting bin names to strings)\n",
    "ageRange = pd.cut(df[\"Age\"], bins, labels=group_names)\n",
    "df[\"Age Range\"] = pd.cut(df[\"Age\"], bins, labels=group_names).astype(str)\n",
    "age_df = df.groupby(['SN','Age Range']).size().reset_index().rename(columns={0:'count'})\n",
    "\n",
    "#Retrieve Data and Sort\n",
    "ageGrouptable = age_df.groupby(\"Age Range\").size().reset_index().rename(columns={0:'Total Count'})\n",
    "\n",
    "#Calculate %\n",
    "ageGrouptable[\"Percentage of Players\"] = ageGrouptable[\"Total Count\"] / len(people_df) * 100\n",
    "\n",
    "#Format Data Appropriately\n",
    "ageGrouptable[\"Percentage of Players\"] = ageGrouptable[\"Percentage of Players\"].map(\"{:.2f}%\".format)\n",
    "ageGrouptable = ageGrouptable.set_index(\"Age Range\")\n",
    "\n",
    "#Display Table\n",
    "ageGrouptable"
   ]
  },
  {
   "cell_type": "code",
   "execution_count": null,
   "metadata": {},
   "outputs": [],
   "source": [
    "#Purchasing Analysis (Age)\n",
    "\n",
    "#Retrieve Values from Data for Columns\n",
    "ageSize = df.groupby(\"Age Range\").size()\n",
    "ageAvgPrice = df.groupby(\"Age Range\").Price.mean()\n",
    "ageTotPrice = df.groupby(\"Age Range\").Price.sum()\n",
    "ageAvgPerPerson = df.groupby(\"Age Range\").Price.sum()/ageGrouptable[\"Total Count\"]\n",
    "\n",
    "#Create DataFrame and Format Data Appropriately\n",
    "agePurchasetable = pd.DataFrame()\n",
    "agePurchasetable[\"Purchase Count\"] = ageSize\n",
    "agePurchasetable[\"Average Purchase Price\"] = ageAvgPrice.map(\"${:,.2f}\".format)\n",
    "agePurchasetable[\"Total Purchase Value\"] = ageTotPrice.map(\"${:,.2f}\".format)\n",
    "agePurchasetable[\"Avg Total Purchase per Person\"] = ageAvgPerPerson.map(\"${:,.2f}\".format)\n",
    "\n",
    "#Sort and Display Table\n",
    "agePurchasetable.sort_index()"
   ]
  },
  {
   "cell_type": "code",
   "execution_count": null,
   "metadata": {},
   "outputs": [],
   "source": [
    "#Top Spenders\n",
    "\n",
    "#Retrieve Values from Data for Columns\n",
    "topSpenders = df.groupby(\"SN\").size()\n",
    "topSpendersaverage = df.groupby(\"SN\").Price.mean()\n",
    "topSpenderssum = df.groupby(\"SN\").Price.sum()\n",
    "\n",
    "#Create DataFrame\n",
    "topSpenders_df = pd.DataFrame()\n",
    "topSpenders_df[\"SN\"]=topSpenders\n",
    "topSpenders_df[\"Average Purchase Price\"]= topSpendersaverage\n",
    "topSpenders_df[\"Total Purchase Value\"]= topSpenderssum\n",
    "\n",
    "#Sort Data\n",
    "topSpenders_df=topSpenders_df.sort_values(by=\"Total Purchase Value\", ascending=False)\n",
    "\n",
    "#Format Data Appropriately\n",
    "topSpenders_df[\"Average Purchase Price\"]=topSpenders_df[\"Average Purchase Price\"].map(\"${:,.2f}\".format)\n",
    "topSpenders_df[\"Total Purchase Value\"]=topSpenders_df[\"Total Purchase Value\"].map(\"${:,.2f}\".format)\n",
    "\n",
    "#Display Table (Sample)\n",
    "topSpenders_df.head()"
   ]
  },
  {
   "cell_type": "code",
   "execution_count": null,
   "metadata": {},
   "outputs": [],
   "source": [
    "#Most Popular Items\n",
    "#Retrieve Values from Data for Columns\n",
    "topItems = df.groupby([\"Item ID\", \"Item Name\"]).size()\n",
    "topItemssaverage = df.groupby([\"Item ID\", \"Item Name\"]).Price.mean()\n",
    "topItemsssum = df.groupby([\"Item ID\", \"Item Name\"]).Price.sum()\n",
    "\n",
    "#Create DataFrame\n",
    "topItems_df = pd.DataFrame()\n",
    "topItems_df[\"Purchase Count\"] = topItems\n",
    "topItems_df[\"Item Price\"] = topItemssaverage\n",
    "topItems_df[\"Total Purchase Value\"] = topItemsssum\n",
    "\n",
    "#Sort Data\n",
    "topItems_df=topItems_df.sort_values(by=\"Purchase Count\", ascending=False)\n",
    "\n",
    "#Format Data Appropriately\n",
    "topItems_df[\"Item Price\"]=topItems_df[\"Item Price\"].map(\"${:,.2f}\".format)\n",
    "topItems_df[\"Total Purchase Value\"]=topItems_df[\"Total Purchase Value\"].map(\"${:,.2f}\".format)\n",
    "\n",
    "#Display Table (Sample)\n",
    "topItems_df.head()"
   ]
  },
  {
   "cell_type": "code",
   "execution_count": null,
   "metadata": {
    "scrolled": true
   },
   "outputs": [],
   "source": [
    "#Most Profitable Items (NOTE: Same as Most Popular Items except sorted to Purchase Value)\n",
    "\n",
    "#Retrieve Values from Data for Columns\n",
    "topItems = df.groupby([\"Item ID\", \"Item Name\"]).size()\n",
    "topItemssaverage = df.groupby([\"Item ID\", \"Item Name\"]).Price.mean()\n",
    "topItemsssum = df.groupby([\"Item ID\", \"Item Name\"]).Price.sum()\n",
    "\n",
    "#Create DataFrame\n",
    "topItems_df = pd.DataFrame()\n",
    "topItems_df[\"Purchase Count\"]=topItems\n",
    "topItems_df[\"Item Price\"]= topItemssaverage\n",
    "topItems_df[\"Total Purchase Value\"]= topItemsssum\n",
    "\n",
    "#Sort Data\n",
    "topItems_df=topItems_df.sort_values(by=\"Total Purchase Value\", ascending=False)\n",
    "\n",
    "#Format Data Appropriately\n",
    "topItems_df[\"Item Price\"]=topItems_df[\"Item Price\"].map(\"${:,.2f}\".format)\n",
    "topItems_df[\"Total Purchase Value\"]=topItems_df[\"Total Purchase Value\"].map(\"${:,.2f}\".format)\n",
    "\n",
    "#Display Table (Sample)\n",
    "topItems_df.head()"
   ]
  }
 ],
 "metadata": {
  "anaconda-cloud": {},
  "kernel_info": {
   "name": "python3"
  },
  "kernelspec": {
   "display_name": "Python 3",
   "language": "python",
   "name": "python3"
  },
  "language_info": {
   "codemirror_mode": {
    "name": "ipython",
    "version": 3
   },
   "file_extension": ".py",
   "mimetype": "text/x-python",
   "name": "python",
   "nbconvert_exporter": "python",
   "pygments_lexer": "ipython3",
   "version": "3.8.3"
  },
  "latex_envs": {
   "LaTeX_envs_menu_present": true,
   "autoclose": false,
   "autocomplete": true,
   "bibliofile": "biblio.bib",
   "cite_by": "apalike",
   "current_citInitial": 1,
   "eqLabelWithNumbers": true,
   "eqNumInitial": 1,
   "hotkeys": {
    "equation": "Ctrl-E",
    "itemize": "Ctrl-I"
   },
   "labels_anchors": false,
   "latex_user_defs": false,
   "report_style_numbering": false,
   "user_envs_cfg": false
  },
  "nteract": {
   "version": "0.2.0"
  }
 },
 "nbformat": 4,
 "nbformat_minor": 2
}
